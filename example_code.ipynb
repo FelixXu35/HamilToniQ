{
 "cells": [
  {
   "cell_type": "code",
   "execution_count": 20,
   "metadata": {},
   "outputs": [],
   "source": [
    "import sys\n",
    "sys.path.append('./HamilToniQ')"
   ]
  },
  {
   "cell_type": "code",
   "execution_count": 21,
   "metadata": {},
   "outputs": [],
   "source": [
    "from HamilToniQ.benchmarking import Toniq\n",
    "from qiskit.providers.fake_provider import FakeAlmadenV2"
   ]
  },
  {
   "cell_type": "code",
   "execution_count": 22,
   "metadata": {},
   "outputs": [
    {
     "name": "stdout",
     "output_type": "stream",
     "text": [
      "the score of fake_almaden with 4 qubits and 1 layers is 0.8767879593750003\n"
     ]
    }
   ],
   "source": [
    "tonic = Toniq()\n",
    "backend = FakeAlmadenV2()\n",
    "\n",
    "dim = 4\n",
    "n_layers = 1\n",
    "\n",
    "score = tonic.run(backend=backend, dim=dim, n_layers=n_layers, n_cores=8)\n",
    "print(f\"the score of {backend.name} with {dim} qubits and {n_layers} layers is {score}\")"
   ]
  }
 ],
 "metadata": {
  "kernelspec": {
   "display_name": "Qc",
   "language": "python",
   "name": "python3"
  },
  "language_info": {
   "codemirror_mode": {
    "name": "ipython",
    "version": 3
   },
   "file_extension": ".py",
   "mimetype": "text/x-python",
   "name": "python",
   "nbconvert_exporter": "python",
   "pygments_lexer": "ipython3",
   "version": "3.11.4"
  },
  "orig_nbformat": 4
 },
 "nbformat": 4,
 "nbformat_minor": 2
}
