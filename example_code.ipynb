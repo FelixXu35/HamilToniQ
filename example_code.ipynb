{
 "cells": [
  {
   "cell_type": "code",
   "execution_count": 3,
   "metadata": {},
   "outputs": [],
   "source": [
    "from hamiltoniq.benchmark import Toniq\n",
    "tonic = Toniq()"
   ]
  },
  {
   "cell_type": "markdown",
   "metadata": {},
   "source": [
    "Benchmarking a backend is very simple"
   ]
  },
  {
   "cell_type": "code",
   "execution_count": 4,
   "metadata": {},
   "outputs": [
    {
     "name": "stdout",
     "output_type": "stream",
     "text": [
      "the score of fake_lagos with 3 qubits and 1 layers is 0.8536\n"
     ]
    }
   ],
   "source": [
    "from qiskit_ibm_runtime.fake_provider import FakeLagosV2\n",
    "\n",
    "fake_backend = FakeLagosV2()\n",
    "\n",
    "n_qubits = 3\n",
    "n_layers = 1\n",
    "\n",
    "score = tonic.simulator_run(fake_backend=fake_backend, n_qubits=n_qubits, n_layers=n_layers, n_cores=8, n_reps=10)\n",
    "print(f\"the score of {fake_backend.name} with {n_qubits} qubits and {n_layers} layers is {round(score, 4)}\")"
   ]
  }
 ],
 "metadata": {
  "kernelspec": {
   "display_name": "Qc",
   "language": "python",
   "name": "python3"
  },
  "language_info": {
   "codemirror_mode": {
    "name": "ipython",
    "version": 3
   },
   "file_extension": ".py",
   "mimetype": "text/x-python",
   "name": "python",
   "nbconvert_exporter": "python",
   "pygments_lexer": "ipython3",
   "version": "3.11.9"
  },
  "orig_nbformat": 4
 },
 "nbformat": 4,
 "nbformat_minor": 2
}
